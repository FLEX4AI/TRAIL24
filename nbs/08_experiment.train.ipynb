{
 "cells": [
  {
   "cell_type": "raw",
   "id": "0f4e2413-2093-415e-b294-178959dc863b",
   "metadata": {},
   "source": [
    "---\n",
    "description: Training notebook\n",
    "output-file: experiment.train.html\n",
    "title: Training\n",
    "skip_showdoc: true\n",
    "skip_exec: true\n",
    "---"
   ]
  },
  {
   "cell_type": "code",
   "execution_count": null,
   "id": "f84c1bb2-28f9-49a3-8bb5-072509369565",
   "metadata": {},
   "outputs": [],
   "source": [
    "import torch\n",
    "import torch.nn as nn\n",
    "import torch.optim as optim\n",
    "import numpy as np\n",
    "import matplotlib.pyplot as plt\n",
    "import pandas as pd\n",
    "from torch.utils.data import DataLoader, Dataset\n",
    "import time\n",
    "import resource\n",
    "import pickle\n",
    "import gc\n",
    "import warnings\n",
    "from tqdm.notebook import tqdm\n",
    "import mlflow\n",
    "from mlflow.models import infer_signature\n",
    "\n",
    "%load_ext autoreload\n",
    "%autoreload 2"
   ]
  },
  {
   "cell_type": "code",
   "execution_count": null,
   "id": "97cec135-b70d-418f-b2b9-f3eb5f72db19",
   "metadata": {},
   "outputs": [],
   "source": [
    "mlflow.set_tracking_uri(uri=\"https://mlflow.tsw24.cetic.be\")"
   ]
  },
  {
   "cell_type": "code",
   "execution_count": null,
   "id": "cbc5cb05-f35f-465e-81ca-d4854d9f358e",
   "metadata": {},
   "outputs": [],
   "source": [
    "from TRAIL24.TRAIL24.data.preprocess import *\n",
    "from TRAIL24.TRAIL24.models.nn import *"
   ]
  },
  {
   "cell_type": "code",
   "execution_count": null,
   "id": "7094df63-ec59-4aa3-8f4d-8296b4f7894c",
   "metadata": {},
   "outputs": [
    {
     "data": {
      "application/vnd.jupyter.widget-view+json": {
       "model_id": "d196c62d80c94668a7d26edd929dcfaf",
       "version_major": 2,
       "version_minor": 0
      },
      "text/plain": [
       "  0%|          | 0/5 [00:00<?, ?it/s]"
      ]
     },
     "metadata": {},
     "output_type": "display_data"
    },
    {
     "data": {
      "application/vnd.jupyter.widget-view+json": {
       "model_id": "dbcfa230afcf4ba69b4c5db3d657b3ba",
       "version_major": 2,
       "version_minor": 0
      },
      "text/plain": [
       "  0%|          | 0/100 [00:00<?, ?it/s]"
      ]
     },
     "metadata": {},
     "output_type": "display_data"
    },
    {
     "data": {
      "application/vnd.jupyter.widget-view+json": {
       "model_id": "f25b460acdb34b3fa2e857ed47381a0c",
       "version_major": 2,
       "version_minor": 0
      },
      "text/plain": [
       "  0%|          | 0/100 [00:00<?, ?it/s]"
      ]
     },
     "metadata": {},
     "output_type": "display_data"
    }
   ],
   "source": [
    "with open('../data/df_cluster_0.pkl', 'rb') as f:\n",
    "        df = pickle.load(f)\n",
    "\n",
    "num_rows = len(df)\n",
    "\n",
    "# Calculate the halfway point\n",
    "halfway_point = num_rows // 6\n",
    "\n",
    "# Select the first half of the rows\n",
    "df = df.iloc[:halfway_point]\n",
    "\n",
    "# Preprocess the DataFrame\n",
    "df_transformed = preprocess_dataframe(df, window_size=40, chunk_size=100)\n",
    "\n",
    "\n",
    "# Define date ranges\n",
    "train_start_date = '2009-07-14'\n",
    "train_end_date = '2010-12-15'\n",
    "test_start_date = '2010-12-15'\n",
    "test_end_date = '2011-01-01'\n",
    "\n",
    "# Finalize the DataFrame (split into train and test)\n",
    "train, test = finalize_dataframe(df_transformed, train_start_date, train_end_date, test_start_date, test_end_date)\n",
    "\n",
    "# Scale the first 40 columns\n",
    "columns_to_scale = [f'lag_{i}' for i in range(1, 41)]\n",
    "train, test = scale_features(train, test, columns_to_scale)\n",
    "\n",
    "# Perform memory cleanup\n",
    "del df_transformed, df\n",
    "gc.collect()\n",
    "\n",
    "print(\"Data preprocessing complete.\")"
   ]
  },
  {
   "cell_type": "code",
   "execution_count": null,
   "id": "1cf5d49f-2419-4939-b554-f1768af6bcc5",
   "metadata": {},
   "outputs": [],
   "source": [
    "class CustomDataset(Dataset):\n",
    "    def __init__(self, dataframe):\n",
    "        self.dataframe = dataframe\n",
    "\n",
    "    def __getitem__(self, idx):\n",
    "        row = self.dataframe.iloc[idx].astype(\"float32\")\n",
    "        features = torch.FloatTensor(row[:-5].values)  # All columns except the last 5\n",
    "        year = torch.FloatTensor([row[-5]]).to(torch.int)\n",
    "        month = torch.FloatTensor([row[-4]]).to(torch.int)  # Month is expected to be 0-11\n",
    "        day = torch.FloatTensor([row[-3]]).to(torch.int)    # Day is expected to be 0-30\n",
    "        hour = torch.FloatTensor([row[-2]]).to(torch.int)      # Hour is already 0-indexed (0-23)\n",
    "        label = torch.FloatTensor([row[-1]])  # The last column\n",
    "        return features, year, month, day, hour, label\n",
    "\n",
    "    def __len__(self):\n",
    "        return len(self.dataframe)\n",
    "\n",
    "def create_data_loaders(data, chunk_size, batch_size):\n",
    "    chunks = np.array_split(data, len(data) // chunk_size)\n",
    "    data_loaders = []\n",
    "    for chunk in chunks:\n",
    "        dataset = CustomDataset(chunk)\n",
    "        data_loader = DataLoader(dataset, batch_size=batch_size, shuffle=True, drop_last=True)\n",
    "        data_loaders.append(data_loader)\n",
    "    return data_loaders"
   ]
  },
  {
   "cell_type": "code",
   "execution_count": null,
   "id": "81852009-a4e7-4d38-aff2-a24ebec24935",
   "metadata": {},
   "outputs": [],
   "source": [
    "def train_function(net, criterion, optimizer, data_loaders, n_epochs=5, device=torch.device(\"cuda\")):\n",
    "    from torch.optim.lr_scheduler import ReduceLROnPlateau\n",
    "    scheduler = ReduceLROnPlateau(optimizer, 'min', verbose=True, threshold=0.1, patience=3, factor=0.5)\n",
    "    for epoch in tqdm(range(n_epochs)):\n",
    "        epoch_loss = 0\n",
    "        counter = 0\n",
    "        for data_loader in data_loaders:\n",
    "            for features, year, month, day, hour, labels in tqdm(data_loader):\n",
    "                features = features.to(device)\n",
    "                year = year.to(device)\n",
    "                month = month.to(device)\n",
    "                day = day.to(device)\n",
    "                hour = hour.to(device)\n",
    "                labels = labels.to(device)\n",
    "\n",
    "                outputs = net(features, month, day, hour, year)\n",
    "                loss = criterion(outputs, labels)\n",
    "                epoch_loss += loss\n",
    "                optimizer.zero_grad()\n",
    "                loss.backward()\n",
    "                optimizer.step()\n",
    "        print(f\"epoch {epoch}\")\n",
    "        scheduler.step(epoch_loss / len(data_loaders))\n",
    "        print(f\"Epoch {epoch + 1}, Loss: {epoch_loss / len(data_loaders)}\")\n",
    "        with open(f'modelcheckpoint{epoch}.pickle', 'wb') as handle:\n",
    "            pickle.dump([net, optimizer], handle, protocol=pickle.HIGHEST_PROTOCOL)\n",
    "        collected = gc.collect()\n",
    "    return net\n",
    "\n",
    "def test_function(net, data_loaders, scaler, label_scaler, device=torch.device(\"cuda\"), return_data=False):\n",
    "    mse = MeanSquaredError().to(device)\n",
    "    smape = SymmetricMeanAbsolutePercentageError().to(device)\n",
    "    net.eval()\n",
    "    list_outputs = []\n",
    "    list_targets = []\n",
    "    with torch.no_grad():  # to not reserve a memory space for gradients\n",
    "        for data_loader in data_loaders:\n",
    "            for features, year, month, day, hour, labels in tqdm(data_loader):\n",
    "                features = features.to(device)\n",
    "                year = year.to(device)\n",
    "                month = month.to(device)\n",
    "                day = day.to(device)\n",
    "                hour = hour.to(device)\n",
    "                labels = labels.to(device)\n",
    "\n",
    "                outputs = net(features, month, day, hour, year)\n",
    "                outputs = outputs.squeeze()\n",
    "                labels = labels.squeeze()\n",
    "\n",
    "                mse(outputs, labels)\n",
    "                smape(outputs, labels)\n",
    "                list_targets.append(labels.detach().unsqueeze(0))  # Ensure tensors are at least one-dimensional\n",
    "                list_outputs.append(outputs.detach().unsqueeze(0))  # Ensure tensors are at least one-dimensional\n",
    "    test_mse = mse.compute()\n",
    "    test_smape = smape.compute()\n",
    "    print(f\"Test MSE: {test_mse} , SMAPE {test_smape}\")\n",
    "    if return_data:\n",
    "        return torch.cat(list_outputs), torch.cat(list_targets), test_mse, test_smape"
   ]
  },
  {
   "cell_type": "code",
   "execution_count": null,
   "id": "db69d607-08b7-4b46-be45-c8233163415d",
   "metadata": {},
   "outputs": [],
   "source": [
    "\n",
    "input_size = 40  # Length of input time series\n",
    "output_size = 1  # Length of output time series (forecast)\n",
    "num_blocks = 12\n",
    "num_hidden = 512\n",
    "num_layers = 8\n",
    "embedding_dim = 10\n",
    "final_hidden = 512\n",
    "\n",
    "\n",
    "nbeats_params = {\n",
    "    'input_size': input_size,\n",
    "    'output_size': output_size,\n",
    "    'num_blocks': num_blocks,\n",
    "    'num_hidden': num_hidden,\n",
    "    'num_layers': num_layers\n",
    "}\n",
    "\n",
    "model_cfg = {\n",
    "    'model_type': 'nbeats', \n",
    "    'model_params': nbeats_params, \n",
    "    'embedding_dim': 10, \n",
    "    'final_hidden': 256\n",
    "}\n",
    "\n",
    "net = create_model(**model_cfg)\n",
    "\n",
    "device = \"cuda\"\n",
    "net.to(device)\n",
    "\n",
    "lr = 0.0005\n",
    "n_epochs = 10\n",
    "window_size = 40\n",
    "chunk_size = 122880\n",
    "batch_size = 1024*12*5"
   ]
  },
  {
   "cell_type": "code",
   "execution_count": null,
   "id": "c635fd32-5a5d-4d70-ada6-0a04d377c7d8",
   "metadata": {},
   "outputs": [
    {
     "name": "stderr",
     "output_type": "stream",
     "text": [
      "/home/HubensN/miniconda3/envs/dev/lib/python3.9/site-packages/numpy/core/fromnumeric.py:59: FutureWarning: 'DataFrame.swapaxes' is deprecated and will be removed in a future version. Please use 'DataFrame.transpose' instead.\n",
      "  return bound(*args, **kwds)\n"
     ]
    },
    {
     "ename": "NameError",
     "evalue": "name 'sample' is not defined",
     "output_type": "error",
     "traceback": [
      "\u001b[0;31m---------------------------------------------------------------------------\u001b[0m",
      "\u001b[0;31mNameError\u001b[0m                                 Traceback (most recent call last)",
      "Cell \u001b[0;32mIn[12], line 4\u001b[0m\n\u001b[1;32m      2\u001b[0m train_loaders \u001b[38;5;241m=\u001b[39m create_data_loaders(train, chunk_size, batch_size)\n\u001b[1;32m      3\u001b[0m test_loaders \u001b[38;5;241m=\u001b[39m create_data_loaders(test, chunk_size, batch_size)\n\u001b[0;32m----> 4\u001b[0m sample_loaders \u001b[38;5;241m=\u001b[39m create_data_loaders(\u001b[43msample\u001b[49m, \u001b[38;5;241m100\u001b[39m, \u001b[38;5;241m1\u001b[39m)\n\u001b[1;32m      5\u001b[0m \u001b[38;5;28mprint\u001b[39m(\u001b[38;5;124m\"\u001b[39m\u001b[38;5;124mdata loaders are ready\u001b[39m\u001b[38;5;124m\"\u001b[39m)\n\u001b[1;32m      7\u001b[0m \u001b[38;5;28;01mdel\u001b[39;00m train, test, sample\n",
      "\u001b[0;31mNameError\u001b[0m: name 'sample' is not defined"
     ]
    }
   ],
   "source": [
    "# Assuming `train`, `test`, `sample` are pre-loaded DataFrames\n",
    "train_loaders = create_data_loaders(train, chunk_size, batch_size)\n",
    "test_loaders = create_data_loaders(test, chunk_size, batch_size)\n",
    "#sample_loaders = create_data_loaders(sample, 100, 1)\n",
    "print(\"data loaders are ready\")\n",
    "\n",
    "#del train, test, sample\n",
    "del train, test\n",
    "gc.collect()"
   ]
  },
  {
   "cell_type": "code",
   "execution_count": null,
   "id": "f892d99e-8699-41a6-b119-ddebbc1042dc",
   "metadata": {},
   "outputs": [
    {
     "name": "stdout",
     "output_type": "stream",
     "text": [
      "Model Started\n"
     ]
    },
    {
     "data": {
      "application/vnd.jupyter.widget-view+json": {
       "model_id": "f09b88985462424c888e33a0e456543d",
       "version_major": 2,
       "version_minor": 0
      },
      "text/plain": [
       "  0%|          | 0/1 [00:00<?, ?it/s]"
      ]
     },
     "metadata": {},
     "output_type": "display_data"
    },
    {
     "data": {
      "application/vnd.jupyter.widget-view+json": {
       "model_id": "9fb3109f89d24b3a9f87373794d62d10",
       "version_major": 2,
       "version_minor": 0
      },
      "text/plain": [
       "  0%|          | 0/2 [00:00<?, ?it/s]"
      ]
     },
     "metadata": {},
     "output_type": "display_data"
    },
    {
     "data": {
      "application/vnd.jupyter.widget-view+json": {
       "model_id": "8fe3cb65c40041afa78676a69d8d38f9",
       "version_major": 2,
       "version_minor": 0
      },
      "text/plain": [
       "  0%|          | 0/2 [00:00<?, ?it/s]"
      ]
     },
     "metadata": {},
     "output_type": "display_data"
    },
    {
     "data": {
      "application/vnd.jupyter.widget-view+json": {
       "model_id": "6b041944637b437489b00983e63b15c1",
       "version_major": 2,
       "version_minor": 0
      },
      "text/plain": [
       "  0%|          | 0/2 [00:00<?, ?it/s]"
      ]
     },
     "metadata": {},
     "output_type": "display_data"
    },
    {
     "data": {
      "application/vnd.jupyter.widget-view+json": {
       "model_id": "bc3ad574c2804f718b94d7be14fc072e",
       "version_major": 2,
       "version_minor": 0
      },
      "text/plain": [
       "  0%|          | 0/2 [00:00<?, ?it/s]"
      ]
     },
     "metadata": {},
     "output_type": "display_data"
    },
    {
     "data": {
      "application/vnd.jupyter.widget-view+json": {
       "model_id": "dfef7c4df2614fd9a17bb11293db0f82",
       "version_major": 2,
       "version_minor": 0
      },
      "text/plain": [
       "  0%|          | 0/2 [00:00<?, ?it/s]"
      ]
     },
     "metadata": {},
     "output_type": "display_data"
    },
    {
     "data": {
      "application/vnd.jupyter.widget-view+json": {
       "model_id": "9679d19801784c1a8f3151400b5f8b0b",
       "version_major": 2,
       "version_minor": 0
      },
      "text/plain": [
       "  0%|          | 0/2 [00:00<?, ?it/s]"
      ]
     },
     "metadata": {},
     "output_type": "display_data"
    },
    {
     "data": {
      "application/vnd.jupyter.widget-view+json": {
       "model_id": "71650b5cd1d24b139ae82998ecb8b3fa",
       "version_major": 2,
       "version_minor": 0
      },
      "text/plain": [
       "  0%|          | 0/2 [00:00<?, ?it/s]"
      ]
     },
     "metadata": {},
     "output_type": "display_data"
    },
    {
     "data": {
      "application/vnd.jupyter.widget-view+json": {
       "model_id": "881a90ab8c3c4b98b22ac97a6b00c7e5",
       "version_major": 2,
       "version_minor": 0
      },
      "text/plain": [
       "  0%|          | 0/2 [00:00<?, ?it/s]"
      ]
     },
     "metadata": {},
     "output_type": "display_data"
    },
    {
     "data": {
      "application/vnd.jupyter.widget-view+json": {
       "model_id": "100f8b49ce914b90acd0eee7f5c1d581",
       "version_major": 2,
       "version_minor": 0
      },
      "text/plain": [
       "  0%|          | 0/2 [00:00<?, ?it/s]"
      ]
     },
     "metadata": {},
     "output_type": "display_data"
    },
    {
     "data": {
      "application/vnd.jupyter.widget-view+json": {
       "model_id": "314324f166594861b203847d9d150053",
       "version_major": 2,
       "version_minor": 0
      },
      "text/plain": [
       "  0%|          | 0/2 [00:00<?, ?it/s]"
      ]
     },
     "metadata": {},
     "output_type": "display_data"
    },
    {
     "data": {
      "application/vnd.jupyter.widget-view+json": {
       "model_id": "dd30105442bb4e079f7aff34025a6859",
       "version_major": 2,
       "version_minor": 0
      },
      "text/plain": [
       "  0%|          | 0/2 [00:00<?, ?it/s]"
      ]
     },
     "metadata": {},
     "output_type": "display_data"
    },
    {
     "data": {
      "application/vnd.jupyter.widget-view+json": {
       "model_id": "6ab03ab6cad046a0b8c91996da9d8334",
       "version_major": 2,
       "version_minor": 0
      },
      "text/plain": [
       "  0%|          | 0/2 [00:00<?, ?it/s]"
      ]
     },
     "metadata": {},
     "output_type": "display_data"
    },
    {
     "name": "stderr",
     "output_type": "stream",
     "text": [
      "\n",
      "KeyboardInterrupt\n",
      "\n"
     ]
    }
   ],
   "source": [
    "criterion = nn.MSELoss().to(device)\n",
    "optimizer = torch.optim.Adam(net.parameters(), lr=lr)\n",
    "\n",
    "net.to(device)\n",
    "\n",
    "print(\"Model Started\")\n",
    "\n",
    "start_mem = get_memory_usage()\n",
    "time1 = time.time()\n",
    "net = train_function(net, criterion, optimizer, train_loaders, n_epochs=1, device=torch.device(device))\n",
    "time2 = time.time()\n",
    "print(\"training time is \", time2 - time1)\n",
    "end_mem = get_memory_usage()\n",
    "print(f\"Memory used for model training: {end_mem - start_mem} MB\")\n",
    "\n",
    "net.to(device)\n",
    "time3 = time.time()\n",
    "*_, test_mse, test_smape = test_function(net, test_loaders, None, None, torch.device(device), return_data=True)\n",
    "time4 = time.time()\n",
    "print(\"inference time is \", time4 - time3)\n",
    "\n",
    "\n",
    "sample_outputs, sample_targets, sample_mse = test_function(net, sample_loaders, None, None, torch.device(device), True)\n",
    "plt.plot(sample_outputs.to(\"cpu\"), \"-o\", color=\"blue\", label=\"NBEATS Predictions\", markersize=3)\n",
    "plt.plot(sample_targets.to(\"cpu\"), color=\"red\", label=\"Actual\")\n",
    "plt.ylabel(\"Energy Consumption (MW)\")\n",
    "plt.title(f\"Energy Consumption for Electricity state 1st building\")\n",
    "plt.legend()\n",
    "plt.show()"
   ]
  },
  {
   "cell_type": "code",
   "execution_count": null,
   "id": "c37e5d81-1ea8-4eda-a12e-abc9e9d3253e",
   "metadata": {},
   "outputs": [],
   "source": []
  },
  {
   "cell_type": "code",
   "execution_count": null,
   "id": "03e85da7-c252-4832-928f-1b1bbb029784",
   "metadata": {},
   "outputs": [],
   "source": []
  },
  {
   "cell_type": "code",
   "execution_count": null,
   "id": "41e7f35e-829c-4188-8c7c-1a1b0341fff8",
   "metadata": {},
   "outputs": [
    {
     "name": "stderr",
     "output_type": "stream",
     "text": [
      "2024/09/04 19:44:02 INFO mlflow.tracking.fluent: Experiment with name 'MLflow Quickstart' does not exist. Creating a new experiment.\n"
     ]
    },
    {
     "name": "stdout",
     "output_type": "stream",
     "text": [
      "Model Started\n"
     ]
    },
    {
     "data": {
      "application/vnd.jupyter.widget-view+json": {
       "model_id": "a4ffee0722184b6eb0b65477a30f95c3",
       "version_major": 2,
       "version_minor": 0
      },
      "text/plain": [
       "  0%|          | 0/1 [00:00<?, ?it/s]"
      ]
     },
     "metadata": {},
     "output_type": "display_data"
    },
    {
     "data": {
      "application/vnd.jupyter.widget-view+json": {
       "model_id": "3c9e55fc72244270a2b485f3d790157c",
       "version_major": 2,
       "version_minor": 0
      },
      "text/plain": [
       "  0%|          | 0/2 [00:00<?, ?it/s]"
      ]
     },
     "metadata": {},
     "output_type": "display_data"
    },
    {
     "name": "stderr",
     "output_type": "stream",
     "text": [
      "\n",
      "KeyboardInterrupt\n",
      "\n"
     ]
    }
   ],
   "source": [
    "# Create a new MLflow Experiment\n",
    "mlflow.set_experiment(\"MLflow Quickstart\")\n",
    "\n",
    "# Start an MLflow run\n",
    "with mlflow.start_run():\n",
    "\n",
    "    mlflow.set_tag(\"Training Info\", \"TEST\")\n",
    "\n",
    "    \n",
    "    criterion = nn.MSELoss().to(device)\n",
    "    optimizer = torch.optim.Adam(net.parameters(), lr=lr)\n",
    "    \n",
    "    net.to(device)\n",
    "    \n",
    "    print(\"Model Started\")\n",
    "    \n",
    "    start_mem = get_memory_usage()\n",
    "    time1 = time.time()\n",
    "    net = train_function(net, criterion, optimizer, train_loaders, n_epochs=1, device=torch.device(device))\n",
    "    time2 = time.time()\n",
    "    print(\"training time is \", time2 - time1)\n",
    "    end_mem = get_memory_usage()\n",
    "    print(f\"Memory used for model training: {end_mem - start_mem} MB\")\n",
    "    \n",
    "    net.to(device)\n",
    "    time3 = time.time()\n",
    "    *_, test_mse, test_smape = test_function(net, test_loaders, None, None, torch.device(device), return_data=True)\n",
    "    time4 = time.time()\n",
    "    print(\"inference time is \", time4 - time3)\n",
    "\n",
    "    mlflow.log_metric(\"test_mse\", test_mse)\n",
    "    mlflow.log_metric(\"test_smape\", test_smape)\n",
    "    \n",
    "    sample_outputs, sample_targets, sample_mse = test_function(net, sample_loaders, None, None, torch.device(device), True)\n",
    "    plt.plot(sample_outputs.to(\"cpu\"), \"-o\", color=\"blue\", label=\"NBEATS Predictions\", markersize=3)\n",
    "    plt.plot(sample_targets.to(\"cpu\"), color=\"red\", label=\"Actual\")\n",
    "    plt.ylabel(\"Energy Consumption (MW)\")\n",
    "    plt.title(f\"Energy Consumption for Electricity state 1st building\")\n",
    "    plt.legend()\n",
    "    plt.show()"
   ]
  },
  {
   "cell_type": "code",
   "execution_count": null,
   "id": "f3c63a43-ba7f-4cb3-a29a-017fcddc81c0",
   "metadata": {},
   "outputs": [],
   "source": [
    "net = create_model().to(device)"
   ]
  },
  {
   "cell_type": "code",
   "execution_count": null,
   "id": "4ab568a5-5c8c-40f6-a996-154720c23de3",
   "metadata": {},
   "outputs": [
    {
     "data": {
      "application/vnd.jupyter.widget-view+json": {
       "model_id": "449a4e272cfa44648dea7bf790ac2c49",
       "version_major": 2,
       "version_minor": 0
      },
      "text/plain": [
       "  0%|          | 0/2 [00:00<?, ?it/s]"
      ]
     },
     "metadata": {},
     "output_type": "display_data"
    },
    {
     "data": {
      "application/vnd.jupyter.widget-view+json": {
       "model_id": "7437d77ae21b4e8ba08837a7148c5e8c",
       "version_major": 2,
       "version_minor": 0
      },
      "text/plain": [
       "  0%|          | 0/2 [00:00<?, ?it/s]"
      ]
     },
     "metadata": {},
     "output_type": "display_data"
    },
    {
     "data": {
      "application/vnd.jupyter.widget-view+json": {
       "model_id": "0f0cb4a7d580471c879237560b9439f3",
       "version_major": 2,
       "version_minor": 0
      },
      "text/plain": [
       "  0%|          | 0/2 [00:00<?, ?it/s]"
      ]
     },
     "metadata": {},
     "output_type": "display_data"
    },
    {
     "data": {
      "application/vnd.jupyter.widget-view+json": {
       "model_id": "fb5ce7dcc2394a1b9451a948c5cce97d",
       "version_major": 2,
       "version_minor": 0
      },
      "text/plain": [
       "  0%|          | 0/2 [00:00<?, ?it/s]"
      ]
     },
     "metadata": {},
     "output_type": "display_data"
    },
    {
     "data": {
      "application/vnd.jupyter.widget-view+json": {
       "model_id": "7de5993ef52c4e46b2ad6a34d3774aa0",
       "version_major": 2,
       "version_minor": 0
      },
      "text/plain": [
       "  0%|          | 0/2 [00:00<?, ?it/s]"
      ]
     },
     "metadata": {},
     "output_type": "display_data"
    },
    {
     "name": "stdout",
     "output_type": "stream",
     "text": [
      "Test MSE: 5.135466575622559 , SMAPE 1.9296079874038696\n",
      "inference time is  93.09827733039856\n"
     ]
    },
    {
     "data": {
      "application/vnd.jupyter.widget-view+json": {
       "model_id": "14741ec52f2640d39c3fe3b97c66d8b0",
       "version_major": 2,
       "version_minor": 0
      },
      "text/plain": [
       "  0%|          | 0/103 [00:00<?, ?it/s]"
      ]
     },
     "metadata": {},
     "output_type": "display_data"
    },
    {
     "data": {
      "application/vnd.jupyter.widget-view+json": {
       "model_id": "2bd528a326674165a5a1dd396b2f7588",
       "version_major": 2,
       "version_minor": 0
      },
      "text/plain": [
       "  0%|          | 0/103 [00:00<?, ?it/s]"
      ]
     },
     "metadata": {},
     "output_type": "display_data"
    },
    {
     "data": {
      "application/vnd.jupyter.widget-view+json": {
       "model_id": "e7bd748b052f475383bf5a0d635ec784",
       "version_major": 2,
       "version_minor": 0
      },
      "text/plain": [
       "  0%|          | 0/102 [00:00<?, ?it/s]"
      ]
     },
     "metadata": {},
     "output_type": "display_data"
    },
    {
     "data": {
      "application/vnd.jupyter.widget-view+json": {
       "model_id": "003d3a1cdc1b48d6a5dcfe04878a91a5",
       "version_major": 2,
       "version_minor": 0
      },
      "text/plain": [
       "  0%|          | 0/102 [00:00<?, ?it/s]"
      ]
     },
     "metadata": {},
     "output_type": "display_data"
    },
    {
     "name": "stdout",
     "output_type": "stream",
     "text": [
      "Test MSE: 3.5050137042999268 , SMAPE 1.9443151950836182\n"
     ]
    },
    {
     "data": {
      "image/png": "[encoded data removed]",
      "text/plain": [
       "<Figure size 640x480 with 1 Axes>"
      ]
     },
     "metadata": {},
     "output_type": "display_data"
    }
   ],
   "source": [
    "time3 = time.time()\n",
    "test_function(net, test_loaders, None, None, torch.device(device))\n",
    "time4 = time.time()\n",
    "print(\"inference time is \", time4 - time3)\n",
    "\n",
    "sample_outputs, sample_targets, sample_mse = test_function(net, sample_loaders, None, None, torch.device(device), True)\n",
    "plt.plot(sample_outputs.to(\"cpu\"), \"-o\", color=\"blue\", label=\"NBEATS Predictions\", markersize=3)\n",
    "plt.plot(sample_targets.to(\"cpu\"), color=\"red\", label=\"Actual\")\n",
    "plt.ylabel(\"Energy Consumption (MW)\")\n",
    "plt.title(f\"Energy Consumption for Electricity state 1st building\")\n",
    "plt.legend()\n",
    "plt.show()"
   ]
  },
  {
   "cell_type": "code",
   "execution_count": null,
   "id": "16936743-7758-44d4-9a23-076374ccd4c7",
   "metadata": {},
   "outputs": [],
   "source": [
    "torch.save(net, \"saved_model_without_year.pth\")"
   ]
  },
  {
   "cell_type": "code",
   "execution_count": null,
   "id": "13db682c-07f5-4c5c-b08b-264fec2100ee",
   "metadata": {},
   "outputs": [],
   "source": [
    "nettt = torch.load(\"saved_model_without_year.pth\")"
   ]
  },
  {
   "cell_type": "code",
   "execution_count": null,
   "id": "28d07f2f-4b31-4e48-a56f-722af776d5f7",
   "metadata": {},
   "outputs": [
    {
     "data": {
      "text/plain": [
       "CombinedModel(\n",
       "  (nbeats): NBEATS(\n",
       "    (trend_blocks): ModuleList(\n",
       "      (0-5): 6 x TrendBlock(\n",
       "        (fc): ModuleList(\n",
       "          (0): Linear(in_features=40, out_features=512, bias=True)\n",
       "          (1-7): 7 x Linear(in_features=512, out_features=512, bias=True)\n",
       "        )\n",
       "        (backcast_fc): Linear(in_features=512, out_features=40, bias=True)\n",
       "        (forecast_fc): Linear(in_features=512, out_features=1, bias=True)\n",
       "      )\n",
       "    )\n",
       "    (seasonality_blocks): ModuleList(\n",
       "      (0-5): 6 x SeasonalityBlock(\n",
       "        (fc): ModuleList(\n",
       "          (0): Linear(in_features=40, out_features=512, bias=True)\n",
       "          (1-7): 7 x Linear(in_features=512, out_features=512, bias=True)\n",
       "        )\n",
       "        (backcast_fc): Linear(in_features=512, out_features=40, bias=True)\n",
       "        (forecast_fc): Linear(in_features=512, out_features=1, bias=True)\n",
       "      )\n",
       "    )\n",
       "  )\n",
       "  (month_net): EmbeddingNetwork(\n",
       "    (embedding): Embedding(12, 10)\n",
       "  )\n",
       "  (day_net): EmbeddingNetwork(\n",
       "    (embedding): Embedding(31, 10)\n",
       "  )\n",
       "  (hour_net): EmbeddingNetwork(\n",
       "    (embedding): Embedding(24, 10)\n",
       "  )\n",
       "  (year_net): YearNetwork(\n",
       "    (hidden): Linear(in_features=1, out_features=25, bias=True)\n",
       "    (output): Linear(in_features=25, out_features=10, bias=True)\n",
       "  )\n",
       "  (final_layer): Sequential(\n",
       "    (0): Linear(in_features=31, out_features=256, bias=True)\n",
       "    (1): ReLU()\n",
       "    (2): Linear(in_features=256, out_features=1, bias=True)\n",
       "  )\n",
       ")"
      ]
     },
     "execution_count": null,
     "metadata": {},
     "output_type": "execute_result"
    }
   ],
   "source": [
    "nettt"
   ]
  },
  {
   "cell_type": "code",
   "execution_count": null,
   "id": "944f35fa-d3d4-4b15-a18d-03935bee6c21",
   "metadata": {},
   "outputs": [],
   "source": []
  }
 ],
 "metadata": {
  "kernelspec": {
   "display_name": "python3",
   "language": "python",
   "name": "python3"
  }
 },
 "nbformat": 4,
 "nbformat_minor": 5
}
