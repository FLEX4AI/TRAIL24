{
 "cells": [
  {
   "cell_type": "raw",
   "id": "c0b3bc11-c07c-41d6-9e70-42fb478fb5df",
   "metadata": {},
   "source": [
    "---\n",
    "description: Use our cluster module on our data\n",
    "output-file: experiment.cluster.html\n",
    "title: Cluster\n",
    "skip_showdoc: true\n",
    "skip_exec: true\n",
    "---"
   ]
  },
  {
   "cell_type": "code",
   "execution_count": null,
   "id": "79c8c18c-4fa0-492d-acb0-87b48dce8112",
   "metadata": {},
   "outputs": [],
   "source": [
    "from TRAIL24.data.cluster import *"
   ]
  },
  {
   "cell_type": "code",
   "execution_count": null,
   "id": "10c29660-d96a-4601-8f3d-021a349e560c",
   "metadata": {},
   "outputs": [],
   "source": [
    "# Standardize the data\n",
    "scaler = StandardScaler()\n",
    "data_scaled = scaler.fit_transform(df_aggregations) \n",
    "\n",
    "# Apply PCA transformation\n",
    "pca = PCA(n_components=1)  # Keep 95% of the variance\n",
    "data_pca = pca.fit_transform(data_scaled)\n",
    "\n",
    "\n",
    "# Set the maximum number of clusters to test\n",
    "max_k = 40"
   ]
  },
  {
   "cell_type": "code",
   "execution_count": null,
   "id": "da7ec479-0c79-44c1-9e3b-b07631246f92",
   "metadata": {},
   "outputs": [],
   "source": [
    "# Calculate and plot elbow method\n",
    "wcss = calculate_wcss(data_pca, max_k)\n",
    "plot_elbow_method(wcss, max_k)\n",
    "explained_variance_ratio = pca.explained_variance_ratio_\n",
    "print(explained_variance_ratio)\n",
    "best_k_elbow = 3\n",
    "print(f'Best k according to elbow method: {best_k_elbow}')"
   ]
  },
  {
   "cell_type": "code",
   "execution_count": null,
   "id": "122b2f1f-5df3-4e65-b13d-21c502e3c8f9",
   "metadata": {},
   "outputs": [],
   "source": [
    "# Apply KMeans clustering\n",
    "final_kmeans = KMeans(n_clusters=best_k_elbow, random_state=42, n_init=90)\n",
    "final_kmeans.fit(data_pca)\n",
    "labels = final_kmeans.labels_\n",
    "\n",
    "# Calculate silhouette score\n",
    "silhouette = silhouette_score(data_pca, labels)\n",
    "print(\"Silhouette score for the KMeans model is \", silhouette)\n",
    "\n",
    "# Calculate Davies-Bouldin score\n",
    "dbs = davies_bouldin_score(data_pca, labels)\n",
    "print(\"Davies-Bouldin score for the KMeans model is \", dbs)"
   ]
  }
 ],
 "metadata": {
  "kernelspec": {
   "display_name": "Python 3 (ipykernel)",
   "language": "python",
   "name": "python3"
  },
  "language_info": {
   "codemirror_mode": {
    "name": "ipython",
    "version": 3
   },
   "file_extension": ".py",
   "mimetype": "text/x-python",
   "name": "python",
   "nbconvert_exporter": "python",
   "pygments_lexer": "ipython3",
   "version": "3.11.7"
  }
 },
 "nbformat": 4,
 "nbformat_minor": 5
}
