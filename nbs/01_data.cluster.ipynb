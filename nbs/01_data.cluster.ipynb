{
 "cells": [
  {
   "cell_type": "raw",
   "id": "4c889502-01ba-4b8e-a33f-40d5c7d8e9dc",
   "metadata": {},
   "source": [
    "---\n",
    "description: Create a cluster module\n",
    "output-file: data.cluster.html\n",
    "title: Cluster\n",
    "---"
   ]
  },
  {
   "cell_type": "markdown",
   "id": "98c0009f-4b96-456c-9776-2e6aee9ed2f8",
   "metadata": {},
   "source": [
    "# data.cluster\n",
    "\n",
    "> Fill in a module description here"
   ]
  },
  {
   "cell_type": "code",
   "execution_count": null,
   "id": "d5dd649d-d571-4bf2-ab1b-c28081aec603",
   "metadata": {},
   "outputs": [],
   "source": [
    "#| default_exp data.cluster"
   ]
  },
  {
   "cell_type": "code",
   "execution_count": null,
   "id": "e152a0b5-6ebb-4798-a87d-adba80a7898b",
   "metadata": {},
   "outputs": [],
   "source": [
    "#| hide\n",
    "from nbdev.showdoc import *"
   ]
  },
  {
   "cell_type": "code",
   "execution_count": null,
   "id": "e627e125-0e9f-4251-a334-375acf3fd969",
   "metadata": {},
   "outputs": [],
   "source": [
    "#| export\n",
    "from sklearn.cluster import KMeans\n",
    "import pandas as pd"
   ]
  },
  {
   "cell_type": "markdown",
   "id": "bfc6b663",
   "metadata": {},
   "source": [
    "`<<<<<<< HEAD`"
   ]
  },
  {
   "cell_type": "code",
   "execution_count": null,
   "id": "eaad12fd-d60b-4f05-b370-2049067bad82",
   "metadata": {},
   "outputs": [],
   "source": [
    "#| export\n",
    "def calculate_wcss(data: list[float], # the input dataframe\n",
    "                   max_k: int # the number of clusters\n",
    "                  ) -> float:\n",
    "    \"compute the WCSS metric\"\n",
    "    wcss = []\n",
    "    for k in range(1, max_k + 1):\n",
    "        kmeans = KMeans(n_clusters=k, random_state=42, n_init=10)\n",
    "        kmeans.fit(data)\n",
    "        wcss.append(kmeans.inertia_)\n",
    "    return wcss"
   ]
  },
  {
   "cell_type": "markdown",
   "id": "340025ba",
   "metadata": {},
   "source": [
    "`=======`"
   ]
  },
  {
   "cell_type": "markdown",
   "id": "81d69e53",
   "metadata": {},
   "source": [
    "`>>>>>>> origin/func_comments`"
   ]
  },
  {
   "cell_type": "code",
   "execution_count": null,
   "id": "5aab97b3-ee08-4fbf-9507-c615068f5662",
   "metadata": {},
   "outputs": [],
   "source": [
    "#| export\n",
    "def plot_elbow_method(wcss:list[float], # the wcss metric to plot\n",
    "                      max_k:int # the number of clusters\n",
    "                     ):\n",
    "    \"plot the graph of the wcss metric as a function of the number of clusters\"\n",
    "    plt.figure(figsize=(10, 6))\n",
    "    plt.plot(range(1, max_k + 1), wcss, marker='o')\n",
    "    plt.title('Elbow Method for Optimal k')\n",
    "    plt.xlabel('Number of clusters (k)')\n",
    "    plt.ylabel('WCSS')\n",
    "    plt.grid(True)\n",
    "    plt.show()"
   ]
  },
  {
   "cell_type": "code",
   "execution_count": null,
   "id": "8c9fe9fa-9114-4b61-bd8a-b0df6e6c83a8",
   "metadata": {},
   "outputs": [],
   "source": [
    "#| hide\n",
    "import nbdev; nbdev.nbdev_export()"
   ]
  }
 ],
 "metadata": {
  "kernelspec": {
   "display_name": "Python 3 (ipykernel)",
   "language": "python",
   "name": "python3"
  },
  "language_info": {
   "codemirror_mode": {
    "name": "ipython",
    "version": 3
   },
   "file_extension": ".py",
   "mimetype": "text/x-python",
   "name": "python",
   "nbconvert_exporter": "python",
   "pygments_lexer": "ipython3",
   "version": "3.11.5"
  }
 },
 "nbformat": 4,
 "nbformat_minor": 5
}
