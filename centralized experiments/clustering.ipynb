{
 "cells": [
  {
   "cell_type": "markdown",
   "metadata": {},
   "source": [
    "# This notebook shows how we implemented clustering using the whole dataset"
   ]
  },
  {
   "cell_type": "code",
   "execution_count": null,
   "metadata": {
    "_cell_guid": "b1076dfc-b9ad-4769-8c92-a6c4dae69d19",
    "_uuid": "8f2839f25d086af736a60e9eeb907d3b93b6e0e5"
   },
   "outputs": [],
   "source": [
    "import pandas as pd\n",
    "import numpy as np\n",
    "from sklearn.preprocessing import StandardScaler\n",
    "from sklearn.decomposition import PCA\n",
    "from sklearn.cluster import KMeans\n",
    "from sklearn.metrics import silhouette_score, davies_bouldin_score\n",
    "import matplotlib.pyplot as plt"
   ]
  },
  {
   "cell_type": "code",
   "execution_count": null,
   "metadata": {},
   "outputs": [],
   "source": [
    "file_path3 = '/kaggle/input/all-data/residential_all.pkl'\n",
    "df3 = pd.read_pickle(file_path3)\n",
    "df3[\"ID\"] = df3[\"ID\"].astype(\"category\")\n",
    "df3[\"time_code\"] = df3[\"time_code\"].astype(\"uint16\")"
   ]
  },
  {
   "cell_type": "code",
   "execution_count": null,
   "metadata": {},
   "outputs": [],
   "source": [
    "df3 = df3.set_index([\"date_time\",\"ID\"])\n",
    "df3 = df3.groupby('ID', group_keys=False, observed=True).apply(resample_building_data)\n",
    "df3=df3.reset_index(level=['ID',\"date_time\"])"
   ]
  },
  {
   "cell_type": "code",
   "execution_count": null,
   "metadata": {},
   "outputs": [],
   "source": [
    "# Generate the range of date_time values\n",
    "start_time = pd.Timestamp('2009-07-14 00:00:00')\n",
    "end_time = pd.Timestamp('2011-01-01 00:00:00')\n",
    "date_range = pd.date_range(start=start_time, end=end_time, freq='h')\n",
    "\n",
    "# Pivot the dataset\n",
    "df_pivoted = df3.pivot(index='ID', columns='date_time', values='consumption').reset_index()\n",
    "\n",
    "# Ensure columns are sorted by date_time\n",
    "# df_pivoted = df_pivoted.sort_index(axis=1)\n",
    "\n",
    "# Optional: Rename the columns to make them more readable\n",
    "df_pivoted.columns.name = None\n",
    "df_pivoted.columns = ['ID'] + [date.strftime('%Y-%m-%d %H:%M:%S') for date in date_range]"
   ]
  },
  {
   "cell_type": "code",
   "execution_count": null,
   "metadata": {},
   "outputs": [],
   "source": [
    "# Assuming df_pivoted is your pivoted DataFrame with 'ID' as the first column\n",
    "# Create a list to store the aggregation results\n",
    "aggregation_results = []\n",
    "\n",
    "for i, row in df_pivoted.iterrows():\n",
    "    building_data = row[1:].astype(float)  # Skip the first column (ID)\n",
    "    building_series = pd.Series(building_data.values, index=pd.date_range(start='2009-07-14 00:00:00', periods=len(building_data), freq='h'))\n",
    "    \n",
    "    # Perform the aggregations\n",
    "    weekday_avg = weekday_average(building_series)\n",
    "    segment_avg = day_segment_average(building_series)\n",
    "    total_energy = total_energy_used(building_series)\n",
    "    avg_energy = average_energy_used(building_series)\n",
    "    we_bd_avg = weekend_businessday_avg(building_series)\n",
    "    \n",
    "    # Combine all the aggregation results for the current building\n",
    "    aggregation_result = np.concatenate([weekday_avg, segment_avg, [total_energy], avg_energy, we_bd_avg])\n",
    "    aggregation_results.append(aggregation_result)\n",
    "\n",
    "# Define the columns for the aggregation results\n",
    "aggregation_columns = [\n",
    "    'avg_mon', 'avg_tue', 'avg_wed', 'avg_thu', 'avg_fri', 'avg_sat', 'avg_sun',\n",
    "    'avg_early_morning', 'avg_morning', 'avg_early_afternoon', 'avg_late_afternoon', 'avg_night',\n",
    "    'total_energy_used',\n",
    "    'hourly_avg_energy', 'daily_avg_energy', 'weekly_avg_energy', 'monthly_avg_energy',\n",
    "    'weekend_avg_energy', 'business_day_avg_energy'\n",
    "]\n",
    "\n",
    "# Convert the aggregation results to a DataFrame\n",
    "df_aggregations = pd.DataFrame(aggregation_results, columns=aggregation_columns)\n",
    "df_aggregations[\"business_day_avg_energy\"] = df_aggregations[\"avg_mon\"]+df_aggregations[\"avg_tue\"]+df_aggregations[\"avg_wed\"]+df_aggregations[\"avg_thu\"]+df_aggregations[\"avg_fri\"]\n",
    "df_aggregations[\"weekend_avg_energy\"] = df_aggregations[\"avg_sat\"]+df_aggregations[\"avg_sun\"]\n",
    "\n",
    "# Concatenate the original pivoted dataframe with the aggregations dataframe\n",
    "df_final = pd.concat([df_pivoted.reset_index(drop=True), df_aggregations], axis=1)\n",
    "\n",
    "# Display the final dataframe\n",
    "len(df_final)"
   ]
  },
  {
   "cell_type": "code",
   "execution_count": null,
   "metadata": {},
   "outputs": [],
   "source": [
    "# Standardize the data\n",
    "scaler = StandardScaler()\n",
    "data_scaled = scaler.fit_transform(df_aggregations) \n",
    "\n",
    "# Apply PCA transformation\n",
    "pca = PCA(n_components=1)  # Keep 95% of the variance\n",
    "data_pca = pca.fit_transform(data_scaled)\n",
    "\n",
    "\n",
    "# Set the maximum number of clusters to test\n",
    "max_k = 40\n",
    "\n",
    "# Calculate and plot elbow method\n",
    "wcss = calculate_wcss(data_pca, max_k)\n",
    "plot_elbow_method(wcss, max_k)\n",
    "explained_variance_ratio = pca.explained_variance_ratio_\n",
    "print(explained_variance_ratio)\n",
    "best_k_elbow = 3\n",
    "print(f'Best k according to elbow method: {best_k_elbow}')\n",
    "\n",
    "# Apply KMeans clustering\n",
    "final_kmeans = KMeans(n_clusters=best_k_elbow, random_state=42, n_init=90)\n",
    "final_kmeans.fit(data_pca)\n",
    "labels = final_kmeans.labels_\n",
    "\n",
    "# Calculate silhouette score\n",
    "silhouette = silhouette_score(data_pca, labels)\n",
    "print(\"Silhouette score for the KMeans model is \", silhouette)\n",
    "\n",
    "# Calculate Davies-Bouldin score\n",
    "dbs = davies_bouldin_score(data_pca, labels)\n",
    "print(\"Davies-Bouldin score for the KMeans model is \", dbs)\n"
   ]
  }
 ],
 "metadata": {
  "kaggle": {
   "accelerator": "none",
   "dataSources": [
    {
     "datasetId": 5412774,
     "sourceId": 8987423,
     "sourceType": "datasetVersion"
    }
   ],
   "isGpuEnabled": false,
   "isInternetEnabled": true,
   "language": "python",
   "sourceType": "notebook"
  },
  "kernelspec": {
   "display_name": "Python 3 (ipykernel)",
   "language": "python",
   "name": "python3"
  },
  "language_info": {
   "codemirror_mode": {
    "name": "ipython",
    "version": 3
   },
   "file_extension": ".py",
   "mimetype": "text/x-python",
   "name": "python",
   "nbconvert_exporter": "python",
   "pygments_lexer": "ipython3",
   "version": "3.11.5"
  }
 },
 "nbformat": 4,
 "nbformat_minor": 4
}
