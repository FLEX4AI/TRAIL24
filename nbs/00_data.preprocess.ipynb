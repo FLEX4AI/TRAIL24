{
 "cells": [
  {
   "cell_type": "raw",
   "metadata": {},
   "source": [
    "---\n",
    "description: Create a preprocess module\n",
    "output-file: data.preprocess.html\n",
    "title: Preprocess\n",
    "---"
   ]
  },
  {
   "cell_type": "markdown",
   "metadata": {},
   "source": [
    "# data.preprocess\n",
    "\n",
    "> Fill in a module description here"
   ]
  },
  {
   "cell_type": "code",
   "execution_count": null,
   "metadata": {},
   "outputs": [],
   "source": [
    "#| default_exp data.preprocess"
   ]
  },
  {
   "cell_type": "code",
   "execution_count": null,
   "metadata": {},
   "outputs": [],
   "source": [
    "#| hide\n",
    "from nbdev.showdoc import *"
   ]
  },
  {
   "cell_type": "code",
   "execution_count": null,
   "metadata": {},
   "outputs": [],
   "source": [
    "#| export\n",
    "import pandas as pd\n",
    "import numpy as np\n",
    "from sklearn.preprocessing import StandardScaler\n",
    "from sklearn.decomposition import PCA\n",
    "from sklearn.metrics import silhouette_score, davies_bouldin_score\n",
    "import matplotlib.pyplot as plt"
   ]
  },
  {
   "cell_type": "code",
   "execution_count": null,
   "metadata": {},
   "outputs": [],
   "source": [
    "#| export\n",
    "def weekday_average(data:list[float])->list[float]:\n",
    "    weekday_avgs = data.groupby(data.index.weekday).mean() * 24\n",
    "    return weekday_avgs.values.flatten()"
   ]
  },
  {
   "cell_type": "code",
   "execution_count": null,
   "metadata": {},
   "outputs": [],
   "source": [
    "#| export\n",
    "def day_segment_average(data:list[float])->list[float]:\n",
    "    segments = {\n",
    "        'early_morning': (7, 9),\n",
    "        'morning': (9, 13),\n",
    "        'early_afternoon': (13, 17),\n",
    "        'late_afternoon': (17, 21),\n",
    "        'night': [(21, 24), (0, 7)]\n",
    "    }\n",
    "    averages = []\n",
    "    for segment, hours in segments.items():\n",
    "        if segment == 'night':\n",
    "            energy = data.between_time('21:00', '23:59').mean() * 10 + data.between_time('00:00', '06:59').mean() * 10\n",
    "        elif  segment == 'early_morning':\n",
    "            start, end = hours\n",
    "            energy = data.between_time(f'{start}:00', f'{end-1}:59').mean() * 2\n",
    "        else :\n",
    "            start, end = hours\n",
    "            energy = data.between_time(f'{start}:00', f'{end-1}:59').mean() * 4\n",
    "            \n",
    "        averages.append(energy)\n",
    "    return np.array(averages).flatten()"
   ]
  },
  {
   "cell_type": "code",
   "execution_count": null,
   "metadata": {},
   "outputs": [],
   "source": [
    "#| export\n",
    "def total_energy_used(data:list[float])->float:\n",
    "    return data.sum()"
   ]
  },
  {
   "cell_type": "code",
   "execution_count": null,
   "metadata": {},
   "outputs": [],
   "source": [
    "#| export\n",
    "def average_energy_used(data:list[float])->list[float]:\n",
    "    hourly_avg = data.mean()\n",
    "    daily_avg = data.resample('D').sum().mean()\n",
    "    weekly_avg = data.resample('W').sum().mean()\n",
    "    monthly_avg = data.resample('ME').sum().mean()\n",
    "    return np.array([hourly_avg, daily_avg, weekly_avg, monthly_avg]).flatten()"
   ]
  },
  {
   "cell_type": "code",
   "execution_count": null,
   "metadata": {},
   "outputs": [],
   "source": [
    "#| export\n",
    "def weekend_businessday_avg(data:list[float])->list[float]:\n",
    "    weekends_avg = data[data.index.weekday >= 5].resample('D').sum().mean() \n",
    "    business_days_avg = data[data.index.weekday < 5].resample('D').sum().mean()\n",
    "    return np.array([weekends_avg, business_days_avg]).flatten()"
   ]
  },
  {
   "cell_type": "code",
   "execution_count": null,
   "metadata": {},
   "outputs": [],
   "source": [
    "#| export\n",
    "def resample_building_data(group:dict)->dict:\n",
    "    group = group.reset_index(level='ID')\n",
    "    # Specify columns explicitly for summing\n",
    "    resampled_group = group.resample('h').agg({'consumption': 'sum'})  # Example if 'consumption' is your numeric column\n",
    "    resampled_group['ID'] = group['ID'].iloc[0]  # Handle non-numeric separately if needed\n",
    "    resampled_group = resampled_group.set_index('ID', append=True)\n",
    "    return resampled_group"
   ]
  },
  {
   "cell_type": "code",
   "execution_count": null,
   "metadata": {},
   "outputs": [],
   "source": [
    "#| hide\n",
    "import nbdev; nbdev.nbdev_export()"
   ]
  }
 ],
 "metadata": {
  "kernelspec": {
   "display_name": "Python 3 (ipykernel)",
   "language": "python",
   "name": "python3"
  },
  "language_info": {
   "codemirror_mode": {
    "name": "ipython",
    "version": 3
   },
   "file_extension": ".py",
   "mimetype": "text/x-python",
   "name": "python",
   "nbconvert_exporter": "python",
   "pygments_lexer": "ipython3",
   "version": "3.11.5"
  }
 },
 "nbformat": 4,
 "nbformat_minor": 4
}
