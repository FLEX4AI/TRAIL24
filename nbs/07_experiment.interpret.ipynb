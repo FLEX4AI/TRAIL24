{
 "cells": [
  {
   "cell_type": "raw",
   "id": "8d15c7a6-b3a2-4e9b-b06f-00bd2c2e29a8",
   "metadata": {},
   "source": [
    "---\n",
    "description: Use our interpret module on our data\n",
    "output-file: experiment.interpret.html\n",
    "title: Interpretation\n",
    "skip_showdoc: true\n",
    "skip_exec: true\n",
    "---"
   ]
  },
  {
   "cell_type": "code",
   "execution_count": null,
   "id": "5cd39b33-d41e-44b1-8298-7a9b051609b7",
   "metadata": {},
   "outputs": [],
   "source": [
    "#| hide\n",
    "from nbdev.showdoc import *\n",
    "from sklearn.manifold import TSNE"
   ]
  },
  {
   "cell_type": "code",
   "execution_count": null,
   "id": "16c9ca91-770c-44b1-a2f4-382dac15c8c7",
   "metadata": {},
   "outputs": [],
   "source": [
    "# Apply t-SNE\n",
    "tsne = TSNE(n_components=2, perplexity=30, n_iter=300, random_state=42)\n",
    "tsne_results = tsne.fit_transform(data_scaled)\n",
    "\n",
    "# Create a DataFrame with t-SNE results and cluster labels\n",
    "tsne_df = pd.DataFrame({\n",
    "    't-SNE1': tsne_results[:, 0],\n",
    "    't-SNE2': tsne_results[:, 1],\n",
    "    'Cluster': labels\n",
    "})\n",
    "\n",
    "# Plotting\n",
    "plt.figure(figsize=(10, 8))\n",
    "scatter = plt.scatter(tsne_df['t-SNE1'], tsne_df['t-SNE2'], c=tsne_df['Cluster'], cmap='viridis', s=50)\n",
    "plt.title('t-SNE Plot of Building Energy Consumption Clusters')\n",
    "plt.xlabel('t-SNE Dimension 1')\n",
    "plt.ylabel('t-SNE Dimension 2')\n",
    "plt.legend(handles=scatter.legend_elements()[0], labels=set(labels))\n",
    "plt.colorbar(scatter, label='Cluster Label')\n",
    "plt.show()"
   ]
  },
  {
   "cell_type": "code",
   "execution_count": null,
   "id": "3b459c92-79d3-423b-8f89-37898ac9d2ed",
   "metadata": {},
   "outputs": [],
   "source": [
    "df_labels = pd.DataFrame(labels, columns=['labels'])\n",
    "df_interpret = pd.concat([df_aggregations, df_labels], axis=1)"
   ]
  },
  {
   "cell_type": "code",
   "execution_count": null,
   "id": "c745aae0-1ca2-4cc2-b08e-68e1a02e75d8",
   "metadata": {},
   "outputs": [],
   "source": [
    "#how many buildings in each cluster\n",
    "df_interpret[\"labels\"].value_counts()"
   ]
  },
  {
   "cell_type": "code",
   "execution_count": null,
   "id": "e47adfc1-cd31-423a-bd1a-1ff0085daaa4",
   "metadata": {},
   "outputs": [],
   "source": [
    "#interpreting the results of first cluster\n",
    "df_interpret[df_interpret[\"labels\"] == 0].describe()"
   ]
  },
  {
   "cell_type": "code",
   "execution_count": null,
   "id": "721fc773-f870-4a61-ba57-e9f6b0e6cb7d",
   "metadata": {},
   "outputs": [],
   "source": [
    "#interpreting the results of second cluster\n",
    "df_interpret[df_interpret[\"labels\"] == 1].describe()"
   ]
  },
  {
   "cell_type": "code",
   "execution_count": null,
   "id": "8e5cd2f8-60fb-4071-9b63-870d8925b40f",
   "metadata": {},
   "outputs": [],
   "source": [
    "#interpreting the results of third cluster\n",
    "df_interpret[df_interpret[\"labels\"] == 2].describe()"
   ]
  }
 ],
 "metadata": {
  "kernelspec": {
   "display_name": "python3",
   "language": "python",
   "name": "python3"
  }
 },
 "nbformat": 4,
 "nbformat_minor": 5
}
