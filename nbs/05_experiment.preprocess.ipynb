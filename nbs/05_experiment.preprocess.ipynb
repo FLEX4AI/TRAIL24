{
 "cells": [
  {
   "cell_type": "raw",
   "id": "00320e1d-2721-4675-9f4c-5e9309052a5b",
   "metadata": {},
   "source": [
    "---\n",
    "description: Use our preprocess module on our data\n",
    "output-file: experiment.preprocess.html\n",
    "title: Preprocess\n",
    "skip_showdoc: true\n",
    "skip_exec: true\n",
    "---"
   ]
  },
  {
   "cell_type": "code",
   "execution_count": null,
   "id": "a559e08d-93f9-44da-8041-0f68f98b1291",
   "metadata": {},
   "outputs": [],
   "source": [
    "import pandas as pd\n",
    "import numpy as np"
   ]
  },
  {
   "cell_type": "code",
   "execution_count": null,
   "id": "01b9edb4",
   "metadata": {},
   "outputs": [],
   "source": [
    "from TRAIL24.data.preprocess import *"
   ]
  },
  {
   "cell_type": "code",
   "execution_count": null,
   "id": "09e75998-5b11-47fb-bd35-de7d13f58aef",
   "metadata": {},
   "outputs": [],
   "source": [
    "file_path3 = '/kaggle/input/all-data/residential_all.pkl'\n",
    "df3 = pd.read_pickle(file_path3)\n",
    "df3[\"ID\"] = df3[\"ID\"].astype(\"category\")\n",
    "df3[\"time_code\"] = df3[\"time_code\"].astype(\"uint16\")"
   ]
  },
  {
   "cell_type": "code",
   "execution_count": null,
   "id": "1575919b-be3c-459b-a903-8d793f74f7e5",
   "metadata": {},
   "outputs": [],
   "source": [
    "df3 = df3.set_index([\"date_time\",\"ID\"])\n",
    "df3 = df3.groupby('ID', group_keys=False, observed=True).apply(resample_building_data)\n",
    "df3=df3.reset_index(level=['ID',\"date_time\"])"
   ]
  },
  {
   "cell_type": "code",
   "execution_count": null,
   "id": "8c0299f9-2412-4ee2-b9be-9c7470878756",
   "metadata": {},
   "outputs": [],
   "source": [
    "# Generate the range of date_time values\n",
    "start_time = pd.Timestamp('2009-07-14 00:00:00')\n",
    "end_time = pd.Timestamp('2011-01-01 00:00:00')\n",
    "date_range = pd.date_range(start=start_time, end=end_time, freq='h')\n",
    "\n",
    "# Pivot the dataset\n",
    "df_pivoted = df3.pivot(index='ID', columns='date_time', values='consumption').reset_index()\n",
    "\n",
    "# Ensure columns are sorted by date_time\n",
    "# df_pivoted = df_pivoted.sort_index(axis=1)\n",
    "\n",
    "# Optional: Rename the columns to make them more readable\n",
    "df_pivoted.columns.name = None\n",
    "df_pivoted.columns = ['ID'] + [date.strftime('%Y-%m-%d %H:%M:%S') for date in date_range]"
   ]
  },
  {
   "cell_type": "code",
   "execution_count": null,
   "id": "fcd1cb1f-445a-4dd6-a419-6316c6f5013b",
   "metadata": {},
   "outputs": [],
   "source": [
    "# Assuming df_pivoted is your pivoted DataFrame with 'ID' as the first column\n",
    "# Create a list to store the aggregation results\n",
    "aggregation_results = []\n",
    "\n",
    "for i, row in df_pivoted.iterrows():\n",
    "    building_data = row[1:].astype(float)  # Skip the first column (ID)\n",
    "    building_series = pd.Series(building_data.values, index=pd.date_range(start='2009-07-14 00:00:00', periods=len(building_data), freq='h'))\n",
    "    \n",
    "    # Perform the aggregations\n",
    "    weekday_avg = weekday_average(building_series)\n",
    "    segment_avg = day_segment_average(building_series)\n",
    "    total_energy = total_energy_used(building_series)\n",
    "    avg_energy = average_energy_used(building_series)\n",
    "    we_bd_avg = weekend_businessday_avg(building_series)\n",
    "    \n",
    "    # Combine all the aggregation results for the current building\n",
    "    aggregation_result = np.concatenate([weekday_avg, segment_avg, [total_energy], avg_energy, we_bd_avg])\n",
    "    aggregation_results.append(aggregation_result)\n",
    "\n",
    "# Define the columns for the aggregation results\n",
    "aggregation_columns = [\n",
    "    'avg_mon', 'avg_tue', 'avg_wed', 'avg_thu', 'avg_fri', 'avg_sat', 'avg_sun',\n",
    "    'avg_early_morning', 'avg_morning', 'avg_early_afternoon', 'avg_late_afternoon', 'avg_night',\n",
    "    'total_energy_used',\n",
    "    'hourly_avg_energy', 'daily_avg_energy', 'weekly_avg_energy', 'monthly_avg_energy',\n",
    "    'weekend_avg_energy', 'business_day_avg_energy'\n",
    "]\n",
    "\n",
    "# Convert the aggregation results to a DataFrame\n",
    "df_aggregations = pd.DataFrame(aggregation_results, columns=aggregation_columns)\n",
    "df_aggregations[\"business_day_avg_energy\"] = df_aggregations[\"avg_mon\"]+df_aggregations[\"avg_tue\"]+df_aggregations[\"avg_wed\"]+df_aggregations[\"avg_thu\"]+df_aggregations[\"avg_fri\"]\n",
    "df_aggregations[\"weekend_avg_energy\"] = df_aggregations[\"avg_sat\"]+df_aggregations[\"avg_sun\"]\n",
    "\n",
    "# Concatenate the original pivoted dataframe with the aggregations dataframe\n",
    "df_final = pd.concat([df_pivoted.reset_index(drop=True), df_aggregations], axis=1)\n",
    "\n",
    "# Display the final dataframe\n",
    "len(df_final)"
   ]
  }
 ],
 "metadata": {
  "kernelspec": {
   "display_name": "python3",
   "language": "python",
   "name": "python3"
  }
 },
 "nbformat": 4,
 "nbformat_minor": 5
}
