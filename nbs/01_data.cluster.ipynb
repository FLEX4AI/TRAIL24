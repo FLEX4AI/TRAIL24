{
 "cells": [
  {
   "cell_type": "markdown",
   "id": "98c0009f-4b96-456c-9776-2e6aee9ed2f8",
   "metadata": {},
   "source": [
    "# data.cluster\n",
    "\n",
    "> Fill in a module description here"
   ]
  },
  {
   "cell_type": "code",
   "execution_count": 2,
   "id": "d5dd649d-d571-4bf2-ab1b-c28081aec603",
   "metadata": {},
   "outputs": [],
   "source": [
    "#| default_exp data.cluster"
   ]
  },
  {
   "cell_type": "code",
   "execution_count": 3,
   "id": "e152a0b5-6ebb-4798-a87d-adba80a7898b",
   "metadata": {},
   "outputs": [],
   "source": [
    "#| hide\n",
    "from nbdev.showdoc import *"
   ]
  },
  {
   "cell_type": "code",
   "execution_count": null,
   "id": "e627e125-0e9f-4251-a334-375acf3fd969",
   "metadata": {},
   "outputs": [],
   "source": [
    "#| export\n",
    "from sklearn.cluster import KMeans"
   ]
  },
  {
   "cell_type": "code",
   "execution_count": null,
   "id": "eaad12fd-d60b-4f05-b370-2049067bad82",
   "metadata": {},
   "outputs": [],
   "source": [
    "#| export\n",
    "def calculate_wcss(data, max_k):\n",
    "    wcss = []\n",
    "    for k in range(1, max_k + 1):\n",
    "        kmeans = KMeans(n_clusters=k, random_state=42, n_init=10)\n",
    "        kmeans.fit(data)\n",
    "        wcss.append(kmeans.inertia_)\n",
    "    return wcss"
   ]
  },
  {
   "cell_type": "code",
   "execution_count": null,
   "id": "5aab97b3-ee08-4fbf-9507-c615068f5662",
   "metadata": {},
   "outputs": [],
   "source": [
    "#| export\n",
    "def plot_elbow_method(wcss, max_k):\n",
    "    plt.figure(figsize=(10, 6))\n",
    "    plt.plot(range(1, max_k + 1), wcss, marker='o')\n",
    "    plt.title('Elbow Method for Optimal k')\n",
    "    plt.xlabel('Number of clusters (k)')\n",
    "    plt.ylabel('WCSS')\n",
    "    plt.grid(True)\n",
    "    plt.show()"
   ]
  },
  {
   "cell_type": "code",
   "execution_count": 5,
   "id": "8c9fe9fa-9114-4b61-bd8a-b0df6e6c83a8",
   "metadata": {},
   "outputs": [],
   "source": [
    "#| hide\n",
    "import nbdev; nbdev.nbdev_export()"
   ]
  }
 ],
 "metadata": {
  "kernelspec": {
   "display_name": "Python 3 (ipykernel)",
   "language": "python",
   "name": "python3"
  },
  "language_info": {
   "codemirror_mode": {
    "name": "ipython",
    "version": 3
   },
   "file_extension": ".py",
   "mimetype": "text/x-python",
   "name": "python",
   "nbconvert_exporter": "python",
   "pygments_lexer": "ipython3",
   "version": "3.11.7"
  }
 },
 "nbformat": 4,
 "nbformat_minor": 5
}
